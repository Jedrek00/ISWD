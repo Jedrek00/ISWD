{
 "cells": [
  {
   "cell_type": "code",
   "execution_count": 1,
   "metadata": {},
   "outputs": [],
   "source": [
    "import numpy as np\n",
    "import torch\n",
    "import torch.nn as nn\n",
    "import torch.nn.functional as F\n",
    "import pandas as pd\n",
    "from sklearn.model_selection import train_test_split\n",
    "import matplotlib.pyplot as plt"
   ]
  },
  {
   "cell_type": "code",
   "execution_count": 2,
   "metadata": {},
   "outputs": [
    {
     "data": {
      "text/html": [
       "<div>\n",
       "<style scoped>\n",
       "    .dataframe tbody tr th:only-of-type {\n",
       "        vertical-align: middle;\n",
       "    }\n",
       "\n",
       "    .dataframe tbody tr th {\n",
       "        vertical-align: top;\n",
       "    }\n",
       "\n",
       "    .dataframe thead th {\n",
       "        text-align: right;\n",
       "    }\n",
       "</style>\n",
       "<table border=\"1\" class=\"dataframe\">\n",
       "  <thead>\n",
       "    <tr style=\"text-align: right;\">\n",
       "      <th></th>\n",
       "      <th>feat_1</th>\n",
       "      <th>feat_2</th>\n",
       "      <th>feat_3</th>\n",
       "      <th>feat_4</th>\n",
       "      <th>feat_5</th>\n",
       "      <th>class</th>\n",
       "    </tr>\n",
       "  </thead>\n",
       "  <tbody>\n",
       "    <tr>\n",
       "      <th>0</th>\n",
       "      <td>0.090909</td>\n",
       "      <td>0.628205</td>\n",
       "      <td>0.666667</td>\n",
       "      <td>1.00</td>\n",
       "      <td>0.666667</td>\n",
       "      <td>1.0</td>\n",
       "    </tr>\n",
       "    <tr>\n",
       "      <th>1</th>\n",
       "      <td>0.090909</td>\n",
       "      <td>0.512821</td>\n",
       "      <td>1.000000</td>\n",
       "      <td>1.00</td>\n",
       "      <td>0.666667</td>\n",
       "      <td>1.0</td>\n",
       "    </tr>\n",
       "    <tr>\n",
       "      <th>2</th>\n",
       "      <td>0.072727</td>\n",
       "      <td>0.128205</td>\n",
       "      <td>0.000000</td>\n",
       "      <td>0.00</td>\n",
       "      <td>0.666667</td>\n",
       "      <td>0.0</td>\n",
       "    </tr>\n",
       "    <tr>\n",
       "      <th>3</th>\n",
       "      <td>0.090909</td>\n",
       "      <td>0.500000</td>\n",
       "      <td>0.000000</td>\n",
       "      <td>1.00</td>\n",
       "      <td>0.666667</td>\n",
       "      <td>1.0</td>\n",
       "    </tr>\n",
       "    <tr>\n",
       "      <th>4</th>\n",
       "      <td>0.090909</td>\n",
       "      <td>0.743590</td>\n",
       "      <td>0.000000</td>\n",
       "      <td>0.75</td>\n",
       "      <td>0.666667</td>\n",
       "      <td>1.0</td>\n",
       "    </tr>\n",
       "  </tbody>\n",
       "</table>\n",
       "</div>"
      ],
      "text/plain": [
       "     feat_1    feat_2    feat_3  feat_4    feat_5  class\n",
       "0  0.090909  0.628205  0.666667    1.00  0.666667    1.0\n",
       "1  0.090909  0.512821  1.000000    1.00  0.666667    1.0\n",
       "2  0.072727  0.128205  0.000000    0.00  0.666667    0.0\n",
       "3  0.090909  0.500000  0.000000    1.00  0.666667    1.0\n",
       "4  0.090909  0.743590  0.000000    0.75  0.666667    1.0"
      ]
     },
     "execution_count": 2,
     "metadata": {},
     "output_type": "execute_result"
    }
   ],
   "source": [
    "df = pd.read_csv(\"data/mammographic.csv\", header=None)\n",
    "df.columns = [\"feat_1\", \"feat_2\", \"feat_3\", \"feat_4\", \"feat_5\", \"class\"]\n",
    "df.head()"
   ]
  },
  {
   "cell_type": "code",
   "execution_count": 3,
   "metadata": {},
   "outputs": [
    {
     "data": {
      "text/plain": [
       "((830, 5), (830,))"
      ]
     },
     "execution_count": 3,
     "metadata": {},
     "output_type": "execute_result"
    }
   ],
   "source": [
    "X = df.drop(columns=[\"class\"])\n",
    "y = df.loc[:, \"class\"]\n",
    "X.shape, y.shape"
   ]
  },
  {
   "cell_type": "code",
   "execution_count": 4,
   "metadata": {},
   "outputs": [],
   "source": [
    "class LinearGreaterThanZero(nn.Linear):\n",
    "    def __init__(self, in_features, bias=False, min_w=0.0000001):\n",
    "        super().__init__(in_features, 1, bias)\n",
    "        self.is_bias = bias\n",
    "        self.min_w = min_w\n",
    "        if bias:\n",
    "            nn.init.uniform_(self.bias, self.min_w, 1.0)\n",
    "        else:\n",
    "            self.bias = None\n",
    "\n",
    "    def reset_parameters(self):\n",
    "        nn.init.uniform_(self.weight, 0.1, 1.0)\n",
    "\n",
    "    def w(self):\n",
    "        with torch.no_grad():\n",
    "            self.weight.data[self.weight.data < 0] = self.min_w\n",
    "        return self.weight\n",
    "\n",
    "    def forward(self, input):\n",
    "        return F.linear(input, self.w(), self.bias)"
   ]
  },
  {
   "cell_type": "code",
   "execution_count": 5,
   "metadata": {},
   "outputs": [],
   "source": [
    "class LinearInteraction(nn.Linear):\n",
    "    def __init__(self, in_features, criterion_layer):\n",
    "        super().__init__(((in_features - 1) * in_features) // 2, 1, False)\n",
    "        self.in_features = in_features\n",
    "        self.criterion_layer = criterion_layer\n",
    "\n",
    "    def reset_parameters(self):\n",
    "        nn.init.normal_(self.weight, 0.0, 0.1)\n",
    "\n",
    "    def w(self):\n",
    "        with torch.no_grad():\n",
    "            w_i = 0\n",
    "            w = self.criterion_layer.w()\n",
    "            for i in range(self.in_features):\n",
    "                for j in range(i + 1, self.in_features):\n",
    "                    self.weight.data[:, w_i] = torch.max(\n",
    "                        self.weight.data[:, w_i], -w[:, i]\n",
    "                    )\n",
    "                    self.weight.data[:, w_i] = torch.max(\n",
    "                        self.weight.data[:, w_i], -w[:, j]\n",
    "                    )\n",
    "                    w_i += 1\n",
    "        return self.weight\n",
    "\n",
    "    def forward(self, input):\n",
    "        return F.linear(input, self.w(), None)"
   ]
  },
  {
   "cell_type": "code",
   "execution_count": 6,
   "metadata": {},
   "outputs": [],
   "source": [
    "class ThresholdLayer(nn.Module):\n",
    "    def __init__(self, threshold=None, requires_grad=True):\n",
    "        super().__init__()\n",
    "        if threshold is None:\n",
    "            self.threshold = nn.Parameter(\n",
    "                torch.FloatTensor(1).uniform_(0.1, 0.5), requires_grad=requires_grad\n",
    "            )\n",
    "        else:\n",
    "            self.threshold = nn.Parameter(\n",
    "                torch.FloatTensor([threshold]), requires_grad=requires_grad\n",
    "            )\n",
    "\n",
    "    def forward(self, x):\n",
    "        return x - self.threshold"
   ]
  },
  {
   "cell_type": "code",
   "execution_count": 7,
   "metadata": {},
   "outputs": [],
   "source": [
    "class ChoquetConstrained(nn.Module):\n",
    "    def __init__(self, criteria_nr, **kwargs):\n",
    "        super().__init__()\n",
    "        self.criteria_nr = criteria_nr\n",
    "        self.criteria_layer = LinearGreaterThanZero(criteria_nr)\n",
    "        self.interaction_layer = LinearInteraction(criteria_nr, self.criteria_layer)\n",
    "        self.thresholdLayer = ThresholdLayer()\n",
    "\n",
    "    def forward(self, x):\n",
    "        if len(x.shape) == 3:\n",
    "            x = x[:, 0, :]\n",
    "        x_wi = self.criteria_layer(x[:, : self.criteria_nr])\n",
    "        x_wij = self.interaction_layer(x[:, self.criteria_nr :])\n",
    "        weight_sum = self.criteria_layer.w().sum() + self.interaction_layer.w().sum()\n",
    "        score = (x_wi + x_wij) / (weight_sum)\n",
    "        return self.thresholdLayer(score)"
   ]
  },
  {
   "cell_type": "code",
   "execution_count": 8,
   "metadata": {},
   "outputs": [],
   "source": [
    "def mobious_transform(row):\n",
    "    return list(row) + [\n",
    "        min(row[i], row[j]) for i in range(len(row)) for j in range(i + 1, len(row))\n",
    "    ]"
   ]
  },
  {
   "cell_type": "code",
   "execution_count": 9,
   "metadata": {},
   "outputs": [
    {
     "data": {
      "text/html": [
       "<div>\n",
       "<style scoped>\n",
       "    .dataframe tbody tr th:only-of-type {\n",
       "        vertical-align: middle;\n",
       "    }\n",
       "\n",
       "    .dataframe tbody tr th {\n",
       "        vertical-align: top;\n",
       "    }\n",
       "\n",
       "    .dataframe thead th {\n",
       "        text-align: right;\n",
       "    }\n",
       "</style>\n",
       "<table border=\"1\" class=\"dataframe\">\n",
       "  <thead>\n",
       "    <tr style=\"text-align: right;\">\n",
       "      <th></th>\n",
       "      <th>feat_1</th>\n",
       "      <th>feat_2</th>\n",
       "      <th>feat_3</th>\n",
       "      <th>feat_4</th>\n",
       "      <th>feat_5</th>\n",
       "      <th>class</th>\n",
       "    </tr>\n",
       "  </thead>\n",
       "  <tbody>\n",
       "    <tr>\n",
       "      <th>0</th>\n",
       "      <td>0.090909</td>\n",
       "      <td>0.628205</td>\n",
       "      <td>0.666667</td>\n",
       "      <td>1.00</td>\n",
       "      <td>0.666667</td>\n",
       "      <td>1.0</td>\n",
       "    </tr>\n",
       "    <tr>\n",
       "      <th>1</th>\n",
       "      <td>0.090909</td>\n",
       "      <td>0.512821</td>\n",
       "      <td>1.000000</td>\n",
       "      <td>1.00</td>\n",
       "      <td>0.666667</td>\n",
       "      <td>1.0</td>\n",
       "    </tr>\n",
       "    <tr>\n",
       "      <th>2</th>\n",
       "      <td>0.072727</td>\n",
       "      <td>0.128205</td>\n",
       "      <td>0.000000</td>\n",
       "      <td>0.00</td>\n",
       "      <td>0.666667</td>\n",
       "      <td>0.0</td>\n",
       "    </tr>\n",
       "    <tr>\n",
       "      <th>3</th>\n",
       "      <td>0.090909</td>\n",
       "      <td>0.500000</td>\n",
       "      <td>0.000000</td>\n",
       "      <td>1.00</td>\n",
       "      <td>0.666667</td>\n",
       "      <td>1.0</td>\n",
       "    </tr>\n",
       "    <tr>\n",
       "      <th>4</th>\n",
       "      <td>0.090909</td>\n",
       "      <td>0.743590</td>\n",
       "      <td>0.000000</td>\n",
       "      <td>0.75</td>\n",
       "      <td>0.666667</td>\n",
       "      <td>1.0</td>\n",
       "    </tr>\n",
       "    <tr>\n",
       "      <th>...</th>\n",
       "      <td>...</td>\n",
       "      <td>...</td>\n",
       "      <td>...</td>\n",
       "      <td>...</td>\n",
       "      <td>...</td>\n",
       "      <td>...</td>\n",
       "    </tr>\n",
       "    <tr>\n",
       "      <th>825</th>\n",
       "      <td>0.072727</td>\n",
       "      <td>0.371795</td>\n",
       "      <td>0.333333</td>\n",
       "      <td>0.00</td>\n",
       "      <td>0.666667</td>\n",
       "      <td>0.0</td>\n",
       "    </tr>\n",
       "    <tr>\n",
       "      <th>826</th>\n",
       "      <td>0.072727</td>\n",
       "      <td>0.487179</td>\n",
       "      <td>1.000000</td>\n",
       "      <td>1.00</td>\n",
       "      <td>0.666667</td>\n",
       "      <td>1.0</td>\n",
       "    </tr>\n",
       "    <tr>\n",
       "      <th>827</th>\n",
       "      <td>0.072727</td>\n",
       "      <td>0.589744</td>\n",
       "      <td>1.000000</td>\n",
       "      <td>1.00</td>\n",
       "      <td>0.666667</td>\n",
       "      <td>0.0</td>\n",
       "    </tr>\n",
       "    <tr>\n",
       "      <th>828</th>\n",
       "      <td>0.090909</td>\n",
       "      <td>0.615385</td>\n",
       "      <td>1.000000</td>\n",
       "      <td>1.00</td>\n",
       "      <td>0.666667</td>\n",
       "      <td>1.0</td>\n",
       "    </tr>\n",
       "    <tr>\n",
       "      <th>829</th>\n",
       "      <td>0.072727</td>\n",
       "      <td>0.564103</td>\n",
       "      <td>0.666667</td>\n",
       "      <td>0.50</td>\n",
       "      <td>0.666667</td>\n",
       "      <td>0.0</td>\n",
       "    </tr>\n",
       "  </tbody>\n",
       "</table>\n",
       "<p>830 rows × 6 columns</p>\n",
       "</div>"
      ],
      "text/plain": [
       "       feat_1    feat_2    feat_3  feat_4    feat_5  class\n",
       "0    0.090909  0.628205  0.666667    1.00  0.666667    1.0\n",
       "1    0.090909  0.512821  1.000000    1.00  0.666667    1.0\n",
       "2    0.072727  0.128205  0.000000    0.00  0.666667    0.0\n",
       "3    0.090909  0.500000  0.000000    1.00  0.666667    1.0\n",
       "4    0.090909  0.743590  0.000000    0.75  0.666667    1.0\n",
       "..        ...       ...       ...     ...       ...    ...\n",
       "825  0.072727  0.371795  0.333333    0.00  0.666667    0.0\n",
       "826  0.072727  0.487179  1.000000    1.00  0.666667    1.0\n",
       "827  0.072727  0.589744  1.000000    1.00  0.666667    0.0\n",
       "828  0.090909  0.615385  1.000000    1.00  0.666667    1.0\n",
       "829  0.072727  0.564103  0.666667    0.50  0.666667    0.0\n",
       "\n",
       "[830 rows x 6 columns]"
      ]
     },
     "execution_count": 9,
     "metadata": {},
     "output_type": "execute_result"
    }
   ],
   "source": [
    "df"
   ]
  },
  {
   "cell_type": "code",
   "execution_count": 10,
   "metadata": {},
   "outputs": [
    {
     "name": "stdout",
     "output_type": "stream",
     "text": [
      "       feat_1    feat_2    feat_3  feat_4    feat_5\n",
      "0    0.090909  0.628205  0.666667    1.00  0.666667\n",
      "1    0.090909  0.512821  1.000000    1.00  0.666667\n",
      "2    0.072727  0.128205  0.000000    0.00  0.666667\n",
      "3    0.090909  0.500000  0.000000    1.00  0.666667\n",
      "4    0.090909  0.743590  0.000000    0.75  0.666667\n",
      "..        ...       ...       ...     ...       ...\n",
      "825  0.072727  0.371795  0.333333    0.00  0.666667\n",
      "826  0.072727  0.487179  1.000000    1.00  0.666667\n",
      "827  0.072727  0.589744  1.000000    1.00  0.666667\n",
      "828  0.090909  0.615385  1.000000    1.00  0.666667\n",
      "829  0.072727  0.564103  0.666667    0.50  0.666667\n",
      "\n",
      "[830 rows x 5 columns]\n",
      "           0         1         2     3         4         5         6   \\\n",
      "0    0.090909  0.628205  0.666667  1.00  0.666667  0.090909  0.090909   \n",
      "1    0.090909  0.512821  1.000000  1.00  0.666667  0.090909  0.090909   \n",
      "2    0.072727  0.128205  0.000000  0.00  0.666667  0.072727  0.000000   \n",
      "3    0.090909  0.500000  0.000000  1.00  0.666667  0.090909  0.000000   \n",
      "4    0.090909  0.743590  0.000000  0.75  0.666667  0.090909  0.000000   \n",
      "..        ...       ...       ...   ...       ...       ...       ...   \n",
      "825  0.072727  0.371795  0.333333  0.00  0.666667  0.072727  0.072727   \n",
      "826  0.072727  0.487179  1.000000  1.00  0.666667  0.072727  0.072727   \n",
      "827  0.072727  0.589744  1.000000  1.00  0.666667  0.072727  0.072727   \n",
      "828  0.090909  0.615385  1.000000  1.00  0.666667  0.090909  0.090909   \n",
      "829  0.072727  0.564103  0.666667  0.50  0.666667  0.072727  0.072727   \n",
      "\n",
      "           7         8         9         10        11        12        13  \\\n",
      "0    0.090909  0.090909  0.628205  0.628205  0.628205  0.666667  0.666667   \n",
      "1    0.090909  0.090909  0.512821  0.512821  0.512821  1.000000  0.666667   \n",
      "2    0.000000  0.072727  0.000000  0.000000  0.128205  0.000000  0.000000   \n",
      "3    0.090909  0.090909  0.000000  0.500000  0.500000  0.000000  0.000000   \n",
      "4    0.090909  0.090909  0.000000  0.743590  0.666667  0.000000  0.000000   \n",
      "..        ...       ...       ...       ...       ...       ...       ...   \n",
      "825  0.000000  0.072727  0.333333  0.000000  0.371795  0.000000  0.333333   \n",
      "826  0.072727  0.072727  0.487179  0.487179  0.487179  1.000000  0.666667   \n",
      "827  0.072727  0.072727  0.589744  0.589744  0.589744  1.000000  0.666667   \n",
      "828  0.090909  0.090909  0.615385  0.615385  0.615385  1.000000  0.666667   \n",
      "829  0.072727  0.072727  0.564103  0.500000  0.564103  0.500000  0.666667   \n",
      "\n",
      "           14  \n",
      "0    0.666667  \n",
      "1    0.666667  \n",
      "2    0.000000  \n",
      "3    0.666667  \n",
      "4    0.666667  \n",
      "..        ...  \n",
      "825  0.000000  \n",
      "826  0.666667  \n",
      "827  0.666667  \n",
      "828  0.666667  \n",
      "829  0.500000  \n",
      "\n",
      "[830 rows x 15 columns]\n"
     ]
    }
   ],
   "source": [
    "criteria_nr = 5\n",
    "print(df.iloc[:, :criteria_nr])\n",
    "data_input = df.iloc[:, :criteria_nr].apply(\n",
    "    lambda x: mobious_transform(x), axis=1, result_type=\"expand\"\n",
    ")\n",
    "print(data_input)\n",
    "data_target = df.iloc[:, criteria_nr]\n",
    "\n",
    "X_train, X_test, y_train, y_test = train_test_split(\n",
    "    data_input.values, data_target.values, test_size=0.2, random_state=1234\n",
    ")"
   ]
  },
  {
   "cell_type": "code",
   "execution_count": 12,
   "metadata": {},
   "outputs": [],
   "source": [
    "from helpers import CreateDataLoader, Train\n",
    "\n",
    "train_dataloader = CreateDataLoader(X_train, y_train)\n",
    "test_dataloader = CreateDataLoader(X_test, y_test)"
   ]
  },
  {
   "cell_type": "code",
   "execution_count": 13,
   "metadata": {},
   "outputs": [],
   "source": [
    "PATH = \"choquet.pt\""
   ]
  },
  {
   "cell_type": "code",
   "execution_count": 14,
   "metadata": {},
   "outputs": [],
   "source": [
    "model = ChoquetConstrained(criteria_nr)"
   ]
  },
  {
   "cell_type": "code",
   "execution_count": 15,
   "metadata": {},
   "outputs": [
    {
     "name": "stderr",
     "output_type": "stream",
     "text": [
      "100%|██████████| 200/200 [00:03<00:00, 58.93it/s]"
     ]
    },
    {
     "name": "stdout",
     "output_type": "stream",
     "text": [
      "Accuracy train:\t81.63%\n",
      "AUC train: \t74.70%\n",
      "Accuracy test:\t84.63%\n",
      "AUC test: \t83.20%\n",
      "F1 test:\t79.60%\n",
      "F1 test: \t73.42%\n"
     ]
    },
    {
     "name": "stderr",
     "output_type": "stream",
     "text": [
      "\n"
     ]
    }
   ],
   "source": [
    "acc, acc_test, auc, auc_test, f1, f1_test = Train(model, train_dataloader, test_dataloader, PATH)\n",
    "\n",
    "print(\"Accuracy train:\\t%.2f%%\" % (acc * 100.0))\n",
    "print(\"AUC train: \\t%.2f%%\" % (acc_test * 100.0))\n",
    "print(\"Accuracy test:\\t%.2f%%\" % (auc * 100.0))\n",
    "print(\"AUC test: \\t%.2f%%\" % (auc_test * 100.0))\n",
    "print(\"F1 test:\\t%.2f%%\" % (f1 * 100.0))\n",
    "print(\"F1 test: \\t%.2f%%\" % (f1_test * 100.0))\n"
   ]
  },
  {
   "cell_type": "code",
   "execution_count": 16,
   "metadata": {},
   "outputs": [
    {
     "data": {
      "text/plain": [
       "<All keys matched successfully>"
      ]
     },
     "execution_count": 16,
     "metadata": {},
     "output_type": "execute_result"
    }
   ],
   "source": [
    "checkpoint = torch.load(PATH)\n",
    "model.load_state_dict(checkpoint[\"model_state_dict\"])"
   ]
  },
  {
   "cell_type": "code",
   "execution_count": 17,
   "metadata": {},
   "outputs": [],
   "source": [
    "weights = model.criteria_layer.w().detach().numpy()[0]\n",
    "interaction_weights = model.interaction_layer.w().detach().numpy()[0]\n",
    "s = weights.sum() + interaction_weights.sum()\n",
    "weights = weights / s\n",
    "interaction_weights = interaction_weights / s\n",
    "\n",
    "interactions = np.zeros((criteria_nr, criteria_nr))\n",
    "weight_id = 0\n",
    "for i in range(criteria_nr):\n",
    "    for j in range(i + 1, criteria_nr):\n",
    "        interactions[i, j] = interactions[j, i] = interaction_weights[weight_id]\n",
    "        weight_id += 1"
   ]
  },
  {
   "cell_type": "code",
   "execution_count": 23,
   "metadata": {},
   "outputs": [
    {
     "name": "stdout",
     "output_type": "stream",
     "text": [
      "Criteria weights:\n",
      "[0.2804, 0.0364, 0.0, 0.0, 0.1884]\n",
      "\n",
      "Criteria interactions:\n",
      "[[ 0.00000000e+00  1.76044866e-01  1.14158869e-01  4.74867970e-02\n",
      "   1.93540528e-01]\n",
      " [ 1.76044866e-01  0.00000000e+00 -3.06755297e-08 -3.06755297e-08\n",
      "  -3.64388898e-02]\n",
      " [ 1.14158869e-01 -3.06755297e-08  0.00000000e+00 -3.06755297e-08\n",
      "  -3.06755297e-08]\n",
      " [ 4.74867970e-02 -3.06755297e-08 -3.06755297e-08  0.00000000e+00\n",
      "  -3.06755297e-08]\n",
      " [ 1.93540528e-01 -3.64388898e-02 -3.06755297e-08 -3.06755297e-08\n",
      "   0.00000000e+00]]\n"
     ]
    }
   ],
   "source": [
    "print(\"Criteria weights:\")\n",
    "print([round(weight, 4) for weight in weights])\n",
    "print()\n",
    "print(\"Criteria interactions:\")\n",
    "print(interactions)"
   ]
  },
  {
   "cell_type": "code",
   "execution_count": 19,
   "metadata": {},
   "outputs": [
    {
     "name": "stdout",
     "output_type": "stream",
     "text": [
      "Importance of criterina (Shapley value):\n",
      "[0.54602442 0.10624185 0.05707942 0.02374338 0.2669109 ]\n"
     ]
    }
   ],
   "source": [
    "shapley = weights + interactions.sum(0) / 2\n",
    "print(\"Importance of criterina (Shapley value):\")\n",
    "print(shapley)"
   ]
  },
  {
   "cell_type": "code",
   "execution_count": 20,
   "metadata": {},
   "outputs": [
    {
     "name": "stdout",
     "output_type": "stream",
     "text": [
      "[[-0.05619024112820625, -0.05524763837456703, -0.01605215109884739, -0.00881020724773407, 0.014809932559728622, 0.023235633969306946, 0.5540633201599121], [-0.022001564502716064, -0.01766888052225113, -0.017487600445747375, -0.012913957238197327, -0.010206158272922039, -0.013879090547561646, -0.03436494991183281, -0.005047142505645752, -0.009198352694511414, -0.005335179157555103, -0.0018657029140740633, -0.009198352694511414, -0.009198352694511414, -0.012476478703320026, -0.004471547901630402, -0.0004459726042114198, -0.007586606778204441, -0.017983708530664444, -0.0068081943318247795, -0.013683848083019257, -0.00692635215818882, -0.012801683507859707, -0.012099344283342361, -0.005526340566575527, -0.019282635301351547, -0.005337539594620466, -0.01266720611602068, -0.007470245473086834, 0.0062066661193966866, -0.011805838905274868, -0.005540076643228531, -0.007852163165807724, 0.00022667559096589684, 0.0016159178921952844, 0.00778504554182291, 0.00039261783240363, 0.004343947861343622, 0.007273415569216013, -0.0027115284465253353, 0.0034315441735088825, -0.001468795700930059, 0.000233816695981659, 0.004320196807384491, 0.00867395754903555, 0.002174203284084797, 0.0053443266078829765, 0.0003223363310098648, 0.006354259792715311, 0.011465213261544704, 0.0012518182629719377, 0.007045860402286053, 0.0012525295605883002, -0.011528193950653076, 0.00882534310221672, 0.00641329400241375, -0.001886775135062635, -0.007568077649921179, 0.019650641828775406, 0.0090150386095047, 0.020645923912525177, -0.014415279030799866, 0.005424014292657375, 0.020644910633563995, 0.009197041392326355, 0.013259860686957836, 0.023855134844779968, 0.02432228997349739, 0.023926082998514175, 0.025256618857383728, 0.010966554284095764, 0.01768156886100769, 0.029461100697517395], [-0.014328056015074253, -0.007727559190243483, 0.0022598090581595898, 0.011074556037783623], [-0.014292454347014427, 0.008044247515499592, 0.01223230455070734, 0.006889129988849163, 0.012670191004872322], [-0.12089455127716064, -0.05616558715701103, 0.005502515938133001, 0.07346541434526443]]\n"
     ]
    }
   ],
   "source": [
    "with torch.no_grad():\n",
    "    y_pred = model(torch.Tensor(data_input.values))\n",
    "\n",
    "avg_predictions_all_features = []\n",
    "\n",
    "for i in range(5):\n",
    "\n",
    "    feature_values = torch.Tensor(data_input.iloc[:, i])\n",
    "    average_predictions = []\n",
    "\n",
    "    for value in torch.unique(torch.Tensor(feature_values)):\n",
    "        mask = (feature_values == value)\n",
    "        average_prediction = torch.mean(y_pred[mask])\n",
    "        average_predictions.append(average_prediction.item())\n",
    "    avg_predictions_all_features.append(average_predictions)\n",
    "print(avg_predictions_all_features)"
   ]
  },
  {
   "cell_type": "code",
   "execution_count": 21,
   "metadata": {},
   "outputs": [
    {
     "data": {
      "image/png": "[encoded data removed]",
      "text/plain": [
       "<Figure size 2200x600 with 5 Axes>"
      ]
     },
     "metadata": {},
     "output_type": "display_data"
    }
   ],
   "source": [
    "fig, axes = plt.subplots(1, 5, figsize=(22, 6))\n",
    "\n",
    "for i in range(5):\n",
    "    axes[i].plot(torch.unique(torch.Tensor(data_input.iloc[:, i])), avg_predictions_all_features[i])\n",
    "    axes[i].set_title(f'feat_{i+1}')"
   ]
  }
 ],
 "metadata": {
  "kernelspec": {
   "display_name": "base",
   "language": "python",
   "name": "python3"
  },
  "language_info": {
   "codemirror_mode": {
    "name": "ipython",
    "version": 3
   },
   "file_extension": ".py",
   "mimetype": "text/x-python",
   "name": "python",
   "nbconvert_exporter": "python",
   "pygments_lexer": "ipython3",
   "version": "3.9.13"
  },
  "orig_nbformat": 4
 },
 "nbformat": 4,
 "nbformat_minor": 2
}
